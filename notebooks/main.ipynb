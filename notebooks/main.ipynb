{
 "cells": [
  {
   "metadata": {
    "ExecuteTime": {
     "end_time": "2025-05-19T11:08:19.521015Z",
     "start_time": "2025-05-19T11:08:19.328670Z"
    }
   },
   "cell_type": "code",
   "source": [
    "import yfinance as yf\n",
    "import polars as pl\n",
    "import matplotlib.pyplot as plt"
   ],
   "outputs": [],
   "execution_count": 16
  },
  {
   "metadata": {
    "ExecuteTime": {
     "end_time": "2025-05-17T11:35:32.317294Z",
     "start_time": "2025-05-17T11:35:28.739328Z"
    }
   },
   "cell_type": "code",
   "source": [
    "stock = yf.Ticker('VRTX')\n",
    "info = stock.info"
   ],
   "outputs": [],
   "execution_count": 2
  },
  {
   "metadata": {
    "ExecuteTime": {
     "end_time": "2025-05-17T11:35:32.969874Z",
     "start_time": "2025-05-17T11:35:32.962775Z"
    }
   },
   "cell_type": "code",
   "source": "info",
   "outputs": [
    {
     "data": {
      "text/plain": [
       "{'address1': '50 Northern Avenue',\n",
       " 'city': 'Boston',\n",
       " 'state': 'MA',\n",
       " 'zip': '02210',\n",
       " 'country': 'United States',\n",
       " 'phone': '617 341 6100',\n",
       " 'website': 'https://www.vrtx.com',\n",
       " 'industry': 'Biotechnology',\n",
       " 'industryKey': 'biotechnology',\n",
       " 'industryDisp': 'Biotechnology',\n",
       " 'sector': 'Healthcare',\n",
       " 'sectorKey': 'healthcare',\n",
       " 'sectorDisp': 'Healthcare',\n",
       " 'longBusinessSummary': 'Vertex Pharmaceuticals Incorporated, a biotechnology company, engages in developing and commercializing therapies for treating cystic fibrosis (CF). It markets TRIKAFTA/KAFTRIO for people with CF with at least one F508del mutation for 2 years of age and older; ALYFTREK for the treatment for people with CF 6 years of age and older; SYMDEKO/SYMKEVI for treatment of patients with CF 6 years of age and older; ORKAMBI for CF patients 1 year or older; and KALYDECO for the treatment of patients with 1 month or older who have CF with ivacaftor. The company also develops CASGEVY for the treatment of sickle cell disease and transfusion-dependent beta thalassemia; JOURNAVX for the treatment of acute pain in adults; VX-522, a CFTR mRNA therapeutic designed to treat the underlying cause of CF, which is in Phase 1/2 clinical trial; inaxaplin for the treatment of APOL1-mediated kidney disease which is in single Phase 2; VX-880 and VX-264, treatment for Type 1 Diabetes; VX-670 for the treatment of myotonic dystrophy type 1; and VX-407, a small molecule corrector for the treatment of autosomal dominant polycystic kidney disease. Further, it sells the products to specialty pharmacy and specialty distributors in the United States, as well as retail pharmacies, hospitals, and clinics. Additionally, the company has collaborations with CRISPR Therapeutics AG.; Moderna, Inc.; and Entrada Therapeutics, Inc. Vertex Pharmaceuticals Incorporated was founded in 1989 and is headquartered in Boston, Massachusetts.',\n",
       " 'fullTimeEmployees': 6100,\n",
       " 'companyOfficers': [{'maxAge': 1,\n",
       "   'name': 'Dr. Jeffrey Marc Leiden M.D., Ph.D.',\n",
       "   'age': 68,\n",
       "   'title': 'Executive Chairman',\n",
       "   'yearBorn': 1956,\n",
       "   'fiscalYear': 2024,\n",
       "   'totalPay': 70000,\n",
       "   'exercisedValue': 0,\n",
       "   'unexercisedValue': 0},\n",
       "  {'maxAge': 1,\n",
       "   'name': 'Dr. Reshma  Kewalramani FASN, M.D.',\n",
       "   'age': 51,\n",
       "   'title': 'CEO, President & Director',\n",
       "   'yearBorn': 1973,\n",
       "   'fiscalYear': 2024,\n",
       "   'totalPay': 6536466,\n",
       "   'exercisedValue': 421721,\n",
       "   'unexercisedValue': 0},\n",
       "  {'maxAge': 1,\n",
       "   'name': 'Mr. Charles F. Wagner Jr.',\n",
       "   'age': 56,\n",
       "   'title': 'Executive VP & CFO',\n",
       "   'yearBorn': 1968,\n",
       "   'fiscalYear': 2024,\n",
       "   'totalPay': 2749112,\n",
       "   'exercisedValue': 0,\n",
       "   'unexercisedValue': 2033366},\n",
       "  {'maxAge': 1,\n",
       "   'name': 'Mr. Stuart A. Arbuckle B.Sc.',\n",
       "   'age': 58,\n",
       "   'title': 'Executive VP & COO',\n",
       "   'yearBorn': 1966,\n",
       "   'fiscalYear': 2024,\n",
       "   'totalPay': 3148606,\n",
       "   'exercisedValue': 0,\n",
       "   'unexercisedValue': 0},\n",
       "  {'maxAge': 1,\n",
       "   'name': 'Dr. David M. Altshuler M.D., Ph.D.',\n",
       "   'age': 59,\n",
       "   'title': 'Executive VP & Chief Scientific Officer',\n",
       "   'yearBorn': 1965,\n",
       "   'fiscalYear': 2024,\n",
       "   'totalPay': 2387150,\n",
       "   'exercisedValue': 0,\n",
       "   'unexercisedValue': 0},\n",
       "  {'maxAge': 1,\n",
       "   'name': 'Dr. Ourania  Tatsis Ph.D.',\n",
       "   'age': 54,\n",
       "   'title': 'Executive VP and Chief Regulatory & Quality Officer',\n",
       "   'yearBorn': 1970,\n",
       "   'fiscalYear': 2024,\n",
       "   'totalPay': 2083988,\n",
       "   'exercisedValue': 0,\n",
       "   'unexercisedValue': 2027529},\n",
       "  {'maxAge': 1,\n",
       "   'name': 'Ms. Kristen C. Ambrose CPA',\n",
       "   'age': 47,\n",
       "   'title': 'Senior VP & Chief Accounting Officer',\n",
       "   'yearBorn': 1977,\n",
       "   'fiscalYear': 2024,\n",
       "   'exercisedValue': 0,\n",
       "   'unexercisedValue': 0},\n",
       "  {'maxAge': 1,\n",
       "   'name': 'Ms. Susie  Lisa C.F.A.',\n",
       "   'title': 'Senior Vice President of Investor Relations',\n",
       "   'fiscalYear': 2024,\n",
       "   'exercisedValue': 0,\n",
       "   'unexercisedValue': 0},\n",
       "  {'maxAge': 1,\n",
       "   'name': 'Mr. Jonathan  Biller J.D.',\n",
       "   'age': 59,\n",
       "   'title': 'Executive VP & Chief Legal Officer',\n",
       "   'yearBorn': 1965,\n",
       "   'fiscalYear': 2024,\n",
       "   'exercisedValue': 0,\n",
       "   'unexercisedValue': 0},\n",
       "  {'maxAge': 1,\n",
       "   'name': 'Ms. Nina  Devlin',\n",
       "   'title': 'Senior VP & Chief Communications Officer',\n",
       "   'fiscalYear': 2024,\n",
       "   'exercisedValue': 0,\n",
       "   'unexercisedValue': 0}],\n",
       " 'auditRisk': 6,\n",
       " 'boardRisk': 6,\n",
       " 'compensationRisk': 6,\n",
       " 'shareHolderRightsRisk': 6,\n",
       " 'overallRisk': 6,\n",
       " 'governanceEpochDate': 1746057600,\n",
       " 'compensationAsOfEpochDate': 1735603200,\n",
       " 'irWebsite': 'http://www.vrtx.com/finances.html',\n",
       " 'executiveTeam': [],\n",
       " 'maxAge': 86400,\n",
       " 'priceHint': 2,\n",
       " 'previousClose': 434.38,\n",
       " 'open': 435.3,\n",
       " 'dayLow': 429.94,\n",
       " 'dayHigh': 438.95,\n",
       " 'regularMarketPreviousClose': 434.38,\n",
       " 'regularMarketOpen': 435.3,\n",
       " 'regularMarketDayLow': 429.94,\n",
       " 'regularMarketDayHigh': 438.95,\n",
       " 'payoutRatio': 0.0,\n",
       " 'beta': 0.513,\n",
       " 'forwardPE': 23.369738,\n",
       " 'volume': 1378041,\n",
       " 'regularMarketVolume': 1378041,\n",
       " 'averageVolume': 1721840,\n",
       " 'averageVolume10days': 2863860,\n",
       " 'averageDailyVolume10Day': 2863860,\n",
       " 'bid': 413.5,\n",
       " 'ask': 452.25,\n",
       " 'bidSize': 1,\n",
       " 'askSize': 1,\n",
       " 'marketCap': 112643997696,\n",
       " 'fiftyTwoWeekLow': 377.85,\n",
       " 'fiftyTwoWeekHigh': 519.88,\n",
       " 'priceToSalesTrailing12Months': 10.148382,\n",
       " 'fiftyDayAverage': 484.567,\n",
       " 'twoHundredDayAverage': 469.1925,\n",
       " 'trailingAnnualDividendRate': 0.0,\n",
       " 'trailingAnnualDividendYield': 0.0,\n",
       " 'currency': 'USD',\n",
       " 'tradeable': False,\n",
       " 'enterpriseValue': 108091990016,\n",
       " 'profitMargins': -0.089090005,\n",
       " 'floatShares': 256075587,\n",
       " 'sharesOutstanding': 256796992,\n",
       " 'sharesShort': 3780307,\n",
       " 'sharesShortPriorMonth': 4463380,\n",
       " 'sharesShortPreviousMonthDate': 1743379200,\n",
       " 'dateShortInterest': 1745971200,\n",
       " 'sharesPercentSharesOut': 0.0147,\n",
       " 'heldPercentInsiders': 0.0014,\n",
       " 'heldPercentInstitutions': 0.97826,\n",
       " 'shortRatio': 2.24,\n",
       " 'shortPercentOfFloat': 0.0166,\n",
       " 'impliedSharesOutstanding': 256796992,\n",
       " 'bookValue': 64.196,\n",
       " 'priceToBook': 6.83298,\n",
       " 'lastFiscalYearEnd': 1735603200,\n",
       " 'nextFiscalYearEnd': 1767139200,\n",
       " 'mostRecentQuarter': 1743379200,\n",
       " 'earningsQuarterlyGrowth': -0.412,\n",
       " 'netIncomeToCommon': -988899968,\n",
       " 'trailingEps': -3.82,\n",
       " 'forwardEps': 18.77,\n",
       " 'lastSplitFactor': '2:1',\n",
       " 'lastSplitDate': 967075200,\n",
       " 'enterpriseToRevenue': 9.738,\n",
       " 'enterpriseToEbitda': 23.578,\n",
       " '52WeekChange': -0.02576983,\n",
       " 'SandP52WeekChange': 0.11469197,\n",
       " 'quoteType': 'EQUITY',\n",
       " 'currentPrice': 438.65,\n",
       " 'targetHighPrice': 621.0,\n",
       " 'targetLowPrice': 330.0,\n",
       " 'targetMeanPrice': 500.29785,\n",
       " 'targetMedianPrice': 512.5,\n",
       " 'recommendationMean': 2.14706,\n",
       " 'recommendationKey': 'buy',\n",
       " 'numberOfAnalystOpinions': 28,\n",
       " 'totalCash': 6201200128,\n",
       " 'totalCashPerShare': 24.148,\n",
       " 'ebitda': 4584399872,\n",
       " 'totalDebt': 1649100032,\n",
       " 'quickRatio': 2.116,\n",
       " 'currentRatio': 2.646,\n",
       " 'totalRevenue': 11099700224,\n",
       " 'debtToEquity': 9.997,\n",
       " 'revenuePerShare': 43.093,\n",
       " 'returnOnAssets': 0.11773,\n",
       " 'returnOnEquity': -0.05644,\n",
       " 'grossProfits': 5892899840,\n",
       " 'freeCashflow': 2634387456,\n",
       " 'operatingCashflow': -980300032,\n",
       " 'earningsGrowth': -0.409,\n",
       " 'revenueGrowth': 0.03,\n",
       " 'grossMargins': 0.53091,\n",
       " 'ebitdaMargins': 0.41301998,\n",
       " 'operatingMargins': 0.37221,\n",
       " 'financialCurrency': 'USD',\n",
       " 'symbol': 'VRTX',\n",
       " 'language': 'en-US',\n",
       " 'region': 'US',\n",
       " 'typeDisp': 'Equity',\n",
       " 'quoteSourceName': 'Nasdaq Real Time Price',\n",
       " 'triggerable': True,\n",
       " 'customPriceAlertConfidence': 'HIGH',\n",
       " 'marketState': 'CLOSED',\n",
       " 'shortName': 'Vertex Pharmaceuticals Incorpor',\n",
       " 'longName': 'Vertex Pharmaceuticals Incorporated',\n",
       " 'cryptoTradeable': False,\n",
       " 'corporateActions': [],\n",
       " 'postMarketTime': 1747439679,\n",
       " 'regularMarketTime': 1747425601,\n",
       " 'exchange': 'NMS',\n",
       " 'messageBoardId': 'finmb_36235',\n",
       " 'exchangeTimezoneName': 'America/New_York',\n",
       " 'exchangeTimezoneShortName': 'EDT',\n",
       " 'gmtOffSetMilliseconds': -14400000,\n",
       " 'market': 'us_market',\n",
       " 'esgPopulated': False,\n",
       " 'hasPrePostMarketData': True,\n",
       " 'firstTradeDateMilliseconds': 680362200000,\n",
       " 'postMarketChangePercent': -0.681635,\n",
       " 'postMarketPrice': 435.66,\n",
       " 'postMarketChange': -2.98999,\n",
       " 'regularMarketChange': 4.269989,\n",
       " 'regularMarketDayRange': '429.94 - 438.95',\n",
       " 'fullExchangeName': 'NasdaqGS',\n",
       " 'averageDailyVolume3Month': 1721840,\n",
       " 'fiftyTwoWeekLowChange': 60.799988,\n",
       " 'fiftyTwoWeekLowChangePercent': 0.16091038,\n",
       " 'fiftyTwoWeekRange': '377.85 - 519.88',\n",
       " 'fiftyTwoWeekHighChange': -81.23001,\n",
       " 'fiftyTwoWeekHighChangePercent': -0.15624762,\n",
       " 'fiftyTwoWeekChangePercent': -2.576983,\n",
       " 'earningsTimestamp': 1746475260,\n",
       " 'earningsTimestampStart': 1753873140,\n",
       " 'earningsTimestampEnd': 1754308800,\n",
       " 'earningsCallTimestampStart': 1746477000,\n",
       " 'earningsCallTimestampEnd': 1746477000,\n",
       " 'isEarningsDateEstimate': True,\n",
       " 'epsTrailingTwelveMonths': -3.82,\n",
       " 'epsForward': 18.77,\n",
       " 'epsCurrentYear': 18.0042,\n",
       " 'priceEpsCurrentYear': 24.36376,\n",
       " 'fiftyDayAverageChange': -45.916992,\n",
       " 'fiftyDayAverageChangePercent': -0.094758816,\n",
       " 'twoHundredDayAverageChange': -30.542511,\n",
       " 'twoHundredDayAverageChangePercent': -0.06509591,\n",
       " 'sourceInterval': 15,\n",
       " 'exchangeDataDelayedBy': 0,\n",
       " 'averageAnalystRating': '2.1 - Buy',\n",
       " 'regularMarketChangePercent': 0.9830077,\n",
       " 'regularMarketPrice': 438.65,\n",
       " 'trailingPegRatio': 2.6106}"
      ]
     },
     "execution_count": 3,
     "metadata": {},
     "output_type": "execute_result"
    }
   ],
   "execution_count": 3
  },
  {
   "metadata": {
    "ExecuteTime": {
     "end_time": "2025-05-19T10:19:51.177939Z",
     "start_time": "2025-05-19T10:19:51.153554Z"
    }
   },
   "cell_type": "code",
   "source": "data = pl.read_csv('data/w1fs4jrazjijad60.csv.gz')",
   "outputs": [],
   "execution_count": 2
  },
  {
   "metadata": {
    "ExecuteTime": {
     "end_time": "2025-05-19T10:21:57.916191Z",
     "start_time": "2025-05-19T10:21:57.905252Z"
    }
   },
   "cell_type": "code",
   "source": "data.head(20).write_csv('data/example.csv')",
   "outputs": [],
   "execution_count": 9
  },
  {
   "metadata": {
    "ExecuteTime": {
     "end_time": "2025-05-19T11:08:23.900040Z",
     "start_time": "2025-05-19T11:08:23.879962Z"
    }
   },
   "cell_type": "code",
   "source": "vrtx = pl.read_csv('data/vrtx.csv.gz')",
   "outputs": [],
   "execution_count": 17
  },
  {
   "metadata": {
    "ExecuteTime": {
     "end_time": "2025-05-19T11:08:53.033097Z",
     "start_time": "2025-05-19T11:08:53.024192Z"
    }
   },
   "cell_type": "code",
   "source": "vrtx.head(20)",
   "outputs": [
    {
     "data": {
      "text/plain": [
       "shape: (20, 76)\n",
       "┌───────┬─────┬────────────┬──────┬───┬──────┬──────────────┬───────┬────────────┐\n",
       "│ gvkey ┆ iid ┆ datadate   ┆ tic  ┆ … ┆ stko ┆ weburl       ┆ dldte ┆ ipodate    │\n",
       "│ ---   ┆ --- ┆ ---        ┆ ---  ┆   ┆ ---  ┆ ---          ┆ ---   ┆ ---        │\n",
       "│ i64   ┆ i64 ┆ str        ┆ str  ┆   ┆ i64  ┆ str          ┆ str   ┆ str        │\n",
       "╞═══════╪═════╪════════════╪══════╪═══╪══════╪══════════════╪═══════╪════════════╡\n",
       "│ 24344 ┆ 1   ┆ 2000-01-03 ┆ VRTX ┆ … ┆ 0    ┆ www.vrtx.com ┆ null  ┆ 1991-07-24 │\n",
       "│ 24344 ┆ 1   ┆ 2000-01-04 ┆ VRTX ┆ … ┆ 0    ┆ www.vrtx.com ┆ null  ┆ 1991-07-24 │\n",
       "│ 24344 ┆ 1   ┆ 2000-01-05 ┆ VRTX ┆ … ┆ 0    ┆ www.vrtx.com ┆ null  ┆ 1991-07-24 │\n",
       "│ 24344 ┆ 1   ┆ 2000-01-06 ┆ VRTX ┆ … ┆ 0    ┆ www.vrtx.com ┆ null  ┆ 1991-07-24 │\n",
       "│ 24344 ┆ 1   ┆ 2000-01-07 ┆ VRTX ┆ … ┆ 0    ┆ www.vrtx.com ┆ null  ┆ 1991-07-24 │\n",
       "│ …     ┆ …   ┆ …          ┆ …    ┆ … ┆ …    ┆ …            ┆ …     ┆ …          │\n",
       "│ 24344 ┆ 1   ┆ 2000-01-25 ┆ VRTX ┆ … ┆ 0    ┆ www.vrtx.com ┆ null  ┆ 1991-07-24 │\n",
       "│ 24344 ┆ 1   ┆ 2000-01-26 ┆ VRTX ┆ … ┆ 0    ┆ www.vrtx.com ┆ null  ┆ 1991-07-24 │\n",
       "│ 24344 ┆ 1   ┆ 2000-01-27 ┆ VRTX ┆ … ┆ 0    ┆ www.vrtx.com ┆ null  ┆ 1991-07-24 │\n",
       "│ 24344 ┆ 1   ┆ 2000-01-28 ┆ VRTX ┆ … ┆ 0    ┆ www.vrtx.com ┆ null  ┆ 1991-07-24 │\n",
       "│ 24344 ┆ 1   ┆ 2000-01-31 ┆ VRTX ┆ … ┆ 0    ┆ www.vrtx.com ┆ null  ┆ 1991-07-24 │\n",
       "└───────┴─────┴────────────┴──────┴───┴──────┴──────────────┴───────┴────────────┘"
      ],
      "text/html": [
       "<div><style>\n",
       ".dataframe > thead > tr,\n",
       ".dataframe > tbody > tr {\n",
       "  text-align: right;\n",
       "  white-space: pre-wrap;\n",
       "}\n",
       "</style>\n",
       "<small>shape: (20, 76)</small><table border=\"1\" class=\"dataframe\"><thead><tr><th>gvkey</th><th>iid</th><th>datadate</th><th>tic</th><th>cusip</th><th>conm</th><th>curcddv</th><th>capgn</th><th>cheqv</th><th>div</th><th>divd</th><th>divdpaydateind</th><th>divsp</th><th>dvrated</th><th>paydateind</th><th>anncdate</th><th>capgnpaydate</th><th>cheqvpaydate</th><th>divdpaydate</th><th>divsppaydate</th><th>paydate</th><th>recorddate</th><th>curcdd</th><th>adrrc</th><th>ajexdi</th><th>cshoc</th><th>cshtrd</th><th>dvi</th><th>eps</th><th>epsmo</th><th>prccd</th><th>prchd</th><th>prcld</th><th>prcod</th><th>prcstd</th><th>trfd</th><th>exchg</th><th>&hellip;</th><th>cik</th><th>fic</th><th>add1</th><th>add2</th><th>add3</th><th>add4</th><th>addzip</th><th>busdesc</th><th>city</th><th>conml</th><th>costat</th><th>county</th><th>dlrsn</th><th>ein</th><th>fax</th><th>fyrc</th><th>ggroup</th><th>gind</th><th>gsector</th><th>gsubind</th><th>idbflag</th><th>incorp</th><th>loc</th><th>naics</th><th>phone</th><th>prican</th><th>prirow</th><th>priusa</th><th>sic</th><th>spcindcd</th><th>spcseccd</th><th>spcsrc</th><th>state</th><th>stko</th><th>weburl</th><th>dldte</th><th>ipodate</th></tr><tr><td>i64</td><td>i64</td><td>str</td><td>str</td><td>str</td><td>str</td><td>str</td><td>str</td><td>str</td><td>str</td><td>str</td><td>str</td><td>str</td><td>str</td><td>str</td><td>str</td><td>str</td><td>str</td><td>str</td><td>str</td><td>str</td><td>str</td><td>str</td><td>str</td><td>f64</td><td>i64</td><td>f64</td><td>str</td><td>f64</td><td>i64</td><td>f64</td><td>f64</td><td>f64</td><td>str</td><td>i64</td><td>str</td><td>i64</td><td>&hellip;</td><td>i64</td><td>str</td><td>str</td><td>str</td><td>str</td><td>str</td><td>i64</td><td>str</td><td>str</td><td>str</td><td>str</td><td>str</td><td>str</td><td>str</td><td>str</td><td>i64</td><td>i64</td><td>i64</td><td>i64</td><td>i64</td><td>str</td><td>str</td><td>str</td><td>i64</td><td>str</td><td>str</td><td>str</td><td>i64</td><td>i64</td><td>i64</td><td>i64</td><td>str</td><td>str</td><td>i64</td><td>str</td><td>str</td><td>str</td></tr></thead><tbody><tr><td>24344</td><td>1</td><td>&quot;2000-01-03&quot;</td><td>&quot;VRTX&quot;</td><td>&quot;92532F100&quot;</td><td>&quot;VERTEX PHARMACEUTICALS INC&quot;</td><td>null</td><td>null</td><td>null</td><td>null</td><td>null</td><td>null</td><td>null</td><td>null</td><td>null</td><td>null</td><td>null</td><td>null</td><td>null</td><td>null</td><td>null</td><td>null</td><td>&quot;USD&quot;</td><td>null</td><td>2.0</td><td>25644000</td><td>505000.0</td><td>null</td><td>-2.18</td><td>9</td><td>37.5625</td><td>37.5625</td><td>33.625</td><td>null</td><td>3</td><td>null</td><td>14</td><td>&hellip;</td><td>875320</td><td>&quot;USA&quot;</td><td>&quot;50 Northern Avenue&quot;</td><td>null</td><td>null</td><td>null</td><td>2210</td><td>&quot;Vertex Pharmaceuticals Incorpo…</td><td>&quot;Boston&quot;</td><td>&quot;Vertex Pharmaceuticals Inc&quot;</td><td>&quot;A&quot;</td><td>null</td><td>null</td><td>&quot;04-3039129&quot;</td><td>null</td><td>12</td><td>3520</td><td>352010</td><td>35</td><td>35201010</td><td>&quot;B&quot;</td><td>&quot;MA&quot;</td><td>&quot;USA&quot;</td><td>325414</td><td>&quot;617 341 6100&quot;</td><td>null</td><td>null</td><td>1</td><td>2836</td><td>147</td><td>905</td><td>&quot;C&quot;</td><td>&quot;MA&quot;</td><td>0</td><td>&quot;www.vrtx.com&quot;</td><td>null</td><td>&quot;1991-07-24&quot;</td></tr><tr><td>24344</td><td>1</td><td>&quot;2000-01-04&quot;</td><td>&quot;VRTX&quot;</td><td>&quot;92532F100&quot;</td><td>&quot;VERTEX PHARMACEUTICALS INC&quot;</td><td>null</td><td>null</td><td>null</td><td>null</td><td>null</td><td>null</td><td>null</td><td>null</td><td>null</td><td>null</td><td>null</td><td>null</td><td>null</td><td>null</td><td>null</td><td>null</td><td>&quot;USD&quot;</td><td>null</td><td>2.0</td><td>25644000</td><td>132700.0</td><td>null</td><td>-2.18</td><td>9</td><td>34.5625</td><td>36.625</td><td>34.5</td><td>null</td><td>3</td><td>null</td><td>14</td><td>&hellip;</td><td>875320</td><td>&quot;USA&quot;</td><td>&quot;50 Northern Avenue&quot;</td><td>null</td><td>null</td><td>null</td><td>2210</td><td>&quot;Vertex Pharmaceuticals Incorpo…</td><td>&quot;Boston&quot;</td><td>&quot;Vertex Pharmaceuticals Inc&quot;</td><td>&quot;A&quot;</td><td>null</td><td>null</td><td>&quot;04-3039129&quot;</td><td>null</td><td>12</td><td>3520</td><td>352010</td><td>35</td><td>35201010</td><td>&quot;B&quot;</td><td>&quot;MA&quot;</td><td>&quot;USA&quot;</td><td>325414</td><td>&quot;617 341 6100&quot;</td><td>null</td><td>null</td><td>1</td><td>2836</td><td>147</td><td>905</td><td>&quot;C&quot;</td><td>&quot;MA&quot;</td><td>0</td><td>&quot;www.vrtx.com&quot;</td><td>null</td><td>&quot;1991-07-24&quot;</td></tr><tr><td>24344</td><td>1</td><td>&quot;2000-01-05&quot;</td><td>&quot;VRTX&quot;</td><td>&quot;92532F100&quot;</td><td>&quot;VERTEX PHARMACEUTICALS INC&quot;</td><td>null</td><td>null</td><td>null</td><td>null</td><td>null</td><td>null</td><td>null</td><td>null</td><td>null</td><td>null</td><td>null</td><td>null</td><td>null</td><td>null</td><td>null</td><td>null</td><td>&quot;USD&quot;</td><td>null</td><td>2.0</td><td>25644000</td><td>101000.0</td><td>null</td><td>-2.18</td><td>9</td><td>34.0</td><td>34.25</td><td>33.0</td><td>null</td><td>3</td><td>null</td><td>14</td><td>&hellip;</td><td>875320</td><td>&quot;USA&quot;</td><td>&quot;50 Northern Avenue&quot;</td><td>null</td><td>null</td><td>null</td><td>2210</td><td>&quot;Vertex Pharmaceuticals Incorpo…</td><td>&quot;Boston&quot;</td><td>&quot;Vertex Pharmaceuticals Inc&quot;</td><td>&quot;A&quot;</td><td>null</td><td>null</td><td>&quot;04-3039129&quot;</td><td>null</td><td>12</td><td>3520</td><td>352010</td><td>35</td><td>35201010</td><td>&quot;B&quot;</td><td>&quot;MA&quot;</td><td>&quot;USA&quot;</td><td>325414</td><td>&quot;617 341 6100&quot;</td><td>null</td><td>null</td><td>1</td><td>2836</td><td>147</td><td>905</td><td>&quot;C&quot;</td><td>&quot;MA&quot;</td><td>0</td><td>&quot;www.vrtx.com&quot;</td><td>null</td><td>&quot;1991-07-24&quot;</td></tr><tr><td>24344</td><td>1</td><td>&quot;2000-01-06&quot;</td><td>&quot;VRTX&quot;</td><td>&quot;92532F100&quot;</td><td>&quot;VERTEX PHARMACEUTICALS INC&quot;</td><td>null</td><td>null</td><td>null</td><td>null</td><td>null</td><td>null</td><td>null</td><td>null</td><td>null</td><td>null</td><td>null</td><td>null</td><td>null</td><td>null</td><td>null</td><td>null</td><td>&quot;USD&quot;</td><td>null</td><td>2.0</td><td>25644000</td><td>135400.0</td><td>null</td><td>-2.18</td><td>9</td><td>33.5</td><td>33.875</td><td>33.125</td><td>null</td><td>3</td><td>null</td><td>14</td><td>&hellip;</td><td>875320</td><td>&quot;USA&quot;</td><td>&quot;50 Northern Avenue&quot;</td><td>null</td><td>null</td><td>null</td><td>2210</td><td>&quot;Vertex Pharmaceuticals Incorpo…</td><td>&quot;Boston&quot;</td><td>&quot;Vertex Pharmaceuticals Inc&quot;</td><td>&quot;A&quot;</td><td>null</td><td>null</td><td>&quot;04-3039129&quot;</td><td>null</td><td>12</td><td>3520</td><td>352010</td><td>35</td><td>35201010</td><td>&quot;B&quot;</td><td>&quot;MA&quot;</td><td>&quot;USA&quot;</td><td>325414</td><td>&quot;617 341 6100&quot;</td><td>null</td><td>null</td><td>1</td><td>2836</td><td>147</td><td>905</td><td>&quot;C&quot;</td><td>&quot;MA&quot;</td><td>0</td><td>&quot;www.vrtx.com&quot;</td><td>null</td><td>&quot;1991-07-24&quot;</td></tr><tr><td>24344</td><td>1</td><td>&quot;2000-01-07&quot;</td><td>&quot;VRTX&quot;</td><td>&quot;92532F100&quot;</td><td>&quot;VERTEX PHARMACEUTICALS INC&quot;</td><td>null</td><td>null</td><td>null</td><td>null</td><td>null</td><td>null</td><td>null</td><td>null</td><td>null</td><td>null</td><td>null</td><td>null</td><td>null</td><td>null</td><td>null</td><td>null</td><td>&quot;USD&quot;</td><td>null</td><td>2.0</td><td>25644000</td><td>406600.0</td><td>null</td><td>-2.18</td><td>9</td><td>36.4375</td><td>37.0</td><td>33.0</td><td>null</td><td>3</td><td>null</td><td>14</td><td>&hellip;</td><td>875320</td><td>&quot;USA&quot;</td><td>&quot;50 Northern Avenue&quot;</td><td>null</td><td>null</td><td>null</td><td>2210</td><td>&quot;Vertex Pharmaceuticals Incorpo…</td><td>&quot;Boston&quot;</td><td>&quot;Vertex Pharmaceuticals Inc&quot;</td><td>&quot;A&quot;</td><td>null</td><td>null</td><td>&quot;04-3039129&quot;</td><td>null</td><td>12</td><td>3520</td><td>352010</td><td>35</td><td>35201010</td><td>&quot;B&quot;</td><td>&quot;MA&quot;</td><td>&quot;USA&quot;</td><td>325414</td><td>&quot;617 341 6100&quot;</td><td>null</td><td>null</td><td>1</td><td>2836</td><td>147</td><td>905</td><td>&quot;C&quot;</td><td>&quot;MA&quot;</td><td>0</td><td>&quot;www.vrtx.com&quot;</td><td>null</td><td>&quot;1991-07-24&quot;</td></tr><tr><td>&hellip;</td><td>&hellip;</td><td>&hellip;</td><td>&hellip;</td><td>&hellip;</td><td>&hellip;</td><td>&hellip;</td><td>&hellip;</td><td>&hellip;</td><td>&hellip;</td><td>&hellip;</td><td>&hellip;</td><td>&hellip;</td><td>&hellip;</td><td>&hellip;</td><td>&hellip;</td><td>&hellip;</td><td>&hellip;</td><td>&hellip;</td><td>&hellip;</td><td>&hellip;</td><td>&hellip;</td><td>&hellip;</td><td>&hellip;</td><td>&hellip;</td><td>&hellip;</td><td>&hellip;</td><td>&hellip;</td><td>&hellip;</td><td>&hellip;</td><td>&hellip;</td><td>&hellip;</td><td>&hellip;</td><td>&hellip;</td><td>&hellip;</td><td>&hellip;</td><td>&hellip;</td><td>&hellip;</td><td>&hellip;</td><td>&hellip;</td><td>&hellip;</td><td>&hellip;</td><td>&hellip;</td><td>&hellip;</td><td>&hellip;</td><td>&hellip;</td><td>&hellip;</td><td>&hellip;</td><td>&hellip;</td><td>&hellip;</td><td>&hellip;</td><td>&hellip;</td><td>&hellip;</td><td>&hellip;</td><td>&hellip;</td><td>&hellip;</td><td>&hellip;</td><td>&hellip;</td><td>&hellip;</td><td>&hellip;</td><td>&hellip;</td><td>&hellip;</td><td>&hellip;</td><td>&hellip;</td><td>&hellip;</td><td>&hellip;</td><td>&hellip;</td><td>&hellip;</td><td>&hellip;</td><td>&hellip;</td><td>&hellip;</td><td>&hellip;</td><td>&hellip;</td><td>&hellip;</td><td>&hellip;</td></tr><tr><td>24344</td><td>1</td><td>&quot;2000-01-25&quot;</td><td>&quot;VRTX&quot;</td><td>&quot;92532F100&quot;</td><td>&quot;VERTEX PHARMACEUTICALS INC&quot;</td><td>null</td><td>null</td><td>null</td><td>null</td><td>null</td><td>null</td><td>null</td><td>null</td><td>null</td><td>null</td><td>null</td><td>null</td><td>null</td><td>null</td><td>null</td><td>null</td><td>&quot;USD&quot;</td><td>null</td><td>2.0</td><td>25644000</td><td>310400.0</td><td>null</td><td>-2.18</td><td>9</td><td>44.25</td><td>49.75</td><td>43.0</td><td>null</td><td>3</td><td>null</td><td>14</td><td>&hellip;</td><td>875320</td><td>&quot;USA&quot;</td><td>&quot;50 Northern Avenue&quot;</td><td>null</td><td>null</td><td>null</td><td>2210</td><td>&quot;Vertex Pharmaceuticals Incorpo…</td><td>&quot;Boston&quot;</td><td>&quot;Vertex Pharmaceuticals Inc&quot;</td><td>&quot;A&quot;</td><td>null</td><td>null</td><td>&quot;04-3039129&quot;</td><td>null</td><td>12</td><td>3520</td><td>352010</td><td>35</td><td>35201010</td><td>&quot;B&quot;</td><td>&quot;MA&quot;</td><td>&quot;USA&quot;</td><td>325414</td><td>&quot;617 341 6100&quot;</td><td>null</td><td>null</td><td>1</td><td>2836</td><td>147</td><td>905</td><td>&quot;C&quot;</td><td>&quot;MA&quot;</td><td>0</td><td>&quot;www.vrtx.com&quot;</td><td>null</td><td>&quot;1991-07-24&quot;</td></tr><tr><td>24344</td><td>1</td><td>&quot;2000-01-26&quot;</td><td>&quot;VRTX&quot;</td><td>&quot;92532F100&quot;</td><td>&quot;VERTEX PHARMACEUTICALS INC&quot;</td><td>null</td><td>null</td><td>null</td><td>null</td><td>null</td><td>null</td><td>null</td><td>null</td><td>null</td><td>null</td><td>null</td><td>null</td><td>null</td><td>null</td><td>null</td><td>null</td><td>&quot;USD&quot;</td><td>null</td><td>2.0</td><td>25644000</td><td>388600.0</td><td>null</td><td>-2.18</td><td>9</td><td>44.25</td><td>47.125</td><td>44.0</td><td>null</td><td>3</td><td>null</td><td>14</td><td>&hellip;</td><td>875320</td><td>&quot;USA&quot;</td><td>&quot;50 Northern Avenue&quot;</td><td>null</td><td>null</td><td>null</td><td>2210</td><td>&quot;Vertex Pharmaceuticals Incorpo…</td><td>&quot;Boston&quot;</td><td>&quot;Vertex Pharmaceuticals Inc&quot;</td><td>&quot;A&quot;</td><td>null</td><td>null</td><td>&quot;04-3039129&quot;</td><td>null</td><td>12</td><td>3520</td><td>352010</td><td>35</td><td>35201010</td><td>&quot;B&quot;</td><td>&quot;MA&quot;</td><td>&quot;USA&quot;</td><td>325414</td><td>&quot;617 341 6100&quot;</td><td>null</td><td>null</td><td>1</td><td>2836</td><td>147</td><td>905</td><td>&quot;C&quot;</td><td>&quot;MA&quot;</td><td>0</td><td>&quot;www.vrtx.com&quot;</td><td>null</td><td>&quot;1991-07-24&quot;</td></tr><tr><td>24344</td><td>1</td><td>&quot;2000-01-27&quot;</td><td>&quot;VRTX&quot;</td><td>&quot;92532F100&quot;</td><td>&quot;VERTEX PHARMACEUTICALS INC&quot;</td><td>null</td><td>null</td><td>null</td><td>null</td><td>null</td><td>null</td><td>null</td><td>null</td><td>null</td><td>null</td><td>null</td><td>null</td><td>null</td><td>null</td><td>null</td><td>null</td><td>&quot;USD&quot;</td><td>null</td><td>2.0</td><td>25644000</td><td>280300.0</td><td>null</td><td>-2.18</td><td>9</td><td>42.0625</td><td>46.5</td><td>41.25</td><td>null</td><td>3</td><td>null</td><td>14</td><td>&hellip;</td><td>875320</td><td>&quot;USA&quot;</td><td>&quot;50 Northern Avenue&quot;</td><td>null</td><td>null</td><td>null</td><td>2210</td><td>&quot;Vertex Pharmaceuticals Incorpo…</td><td>&quot;Boston&quot;</td><td>&quot;Vertex Pharmaceuticals Inc&quot;</td><td>&quot;A&quot;</td><td>null</td><td>null</td><td>&quot;04-3039129&quot;</td><td>null</td><td>12</td><td>3520</td><td>352010</td><td>35</td><td>35201010</td><td>&quot;B&quot;</td><td>&quot;MA&quot;</td><td>&quot;USA&quot;</td><td>325414</td><td>&quot;617 341 6100&quot;</td><td>null</td><td>null</td><td>1</td><td>2836</td><td>147</td><td>905</td><td>&quot;C&quot;</td><td>&quot;MA&quot;</td><td>0</td><td>&quot;www.vrtx.com&quot;</td><td>null</td><td>&quot;1991-07-24&quot;</td></tr><tr><td>24344</td><td>1</td><td>&quot;2000-01-28&quot;</td><td>&quot;VRTX&quot;</td><td>&quot;92532F100&quot;</td><td>&quot;VERTEX PHARMACEUTICALS INC&quot;</td><td>null</td><td>null</td><td>null</td><td>null</td><td>null</td><td>null</td><td>null</td><td>null</td><td>null</td><td>null</td><td>null</td><td>null</td><td>null</td><td>null</td><td>null</td><td>null</td><td>&quot;USD&quot;</td><td>null</td><td>2.0</td><td>25644000</td><td>156300.0</td><td>null</td><td>-2.18</td><td>9</td><td>41.71875</td><td>42.25</td><td>40.625</td><td>null</td><td>3</td><td>null</td><td>14</td><td>&hellip;</td><td>875320</td><td>&quot;USA&quot;</td><td>&quot;50 Northern Avenue&quot;</td><td>null</td><td>null</td><td>null</td><td>2210</td><td>&quot;Vertex Pharmaceuticals Incorpo…</td><td>&quot;Boston&quot;</td><td>&quot;Vertex Pharmaceuticals Inc&quot;</td><td>&quot;A&quot;</td><td>null</td><td>null</td><td>&quot;04-3039129&quot;</td><td>null</td><td>12</td><td>3520</td><td>352010</td><td>35</td><td>35201010</td><td>&quot;B&quot;</td><td>&quot;MA&quot;</td><td>&quot;USA&quot;</td><td>325414</td><td>&quot;617 341 6100&quot;</td><td>null</td><td>null</td><td>1</td><td>2836</td><td>147</td><td>905</td><td>&quot;C&quot;</td><td>&quot;MA&quot;</td><td>0</td><td>&quot;www.vrtx.com&quot;</td><td>null</td><td>&quot;1991-07-24&quot;</td></tr><tr><td>24344</td><td>1</td><td>&quot;2000-01-31&quot;</td><td>&quot;VRTX&quot;</td><td>&quot;92532F100&quot;</td><td>&quot;VERTEX PHARMACEUTICALS INC&quot;</td><td>null</td><td>null</td><td>null</td><td>null</td><td>null</td><td>null</td><td>null</td><td>null</td><td>null</td><td>null</td><td>null</td><td>null</td><td>null</td><td>null</td><td>null</td><td>null</td><td>&quot;USD&quot;</td><td>null</td><td>2.0</td><td>25644000</td><td>246200.0</td><td>null</td><td>-2.18</td><td>9</td><td>41.0</td><td>41.875</td><td>39.875</td><td>null</td><td>3</td><td>null</td><td>14</td><td>&hellip;</td><td>875320</td><td>&quot;USA&quot;</td><td>&quot;50 Northern Avenue&quot;</td><td>null</td><td>null</td><td>null</td><td>2210</td><td>&quot;Vertex Pharmaceuticals Incorpo…</td><td>&quot;Boston&quot;</td><td>&quot;Vertex Pharmaceuticals Inc&quot;</td><td>&quot;A&quot;</td><td>null</td><td>null</td><td>&quot;04-3039129&quot;</td><td>null</td><td>12</td><td>3520</td><td>352010</td><td>35</td><td>35201010</td><td>&quot;B&quot;</td><td>&quot;MA&quot;</td><td>&quot;USA&quot;</td><td>325414</td><td>&quot;617 341 6100&quot;</td><td>null</td><td>null</td><td>1</td><td>2836</td><td>147</td><td>905</td><td>&quot;C&quot;</td><td>&quot;MA&quot;</td><td>0</td><td>&quot;www.vrtx.com&quot;</td><td>null</td><td>&quot;1991-07-24&quot;</td></tr></tbody></table></div>"
      ]
     },
     "execution_count": 19,
     "metadata": {},
     "output_type": "execute_result"
    }
   ],
   "execution_count": 19
  },
  {
   "metadata": {
    "ExecuteTime": {
     "end_time": "2025-05-19T11:09:59.447778Z",
     "start_time": "2025-05-19T11:09:59.355485Z"
    }
   },
   "cell_type": "code",
   "source": "plt.plot(vrtx['prccd'])",
   "outputs": [
    {
     "data": {
      "text/plain": [
       "[<matplotlib.lines.Line2D at 0x116829e50>]"
      ]
     },
     "execution_count": 20,
     "metadata": {},
     "output_type": "execute_result"
    },
    {
     "data": {
      "text/plain": [
       "<Figure size 640x480 with 1 Axes>"
      ],
      "image/png": "[encoded data removed]"
     },
     "metadata": {},
     "output_type": "display_data"
    }
   ],
   "execution_count": 20
  },
  {
   "metadata": {},
   "cell_type": "code",
   "outputs": [],
   "execution_count": null,
   "source": ""
  }
 ],
 "metadata": {
  "kernelspec": {
   "display_name": "Python 3",
   "language": "python",
   "name": "python3"
  },
  "language_info": {
   "codemirror_mode": {
    "name": "ipython",
    "version": 3
   },
   "file_extension": ".py",
   "mimetype": "text/x-python",
   "name": "python",
   "nbconvert_exporter": "python",
   "pygments_lexer": "ipython3",
   "version": "3.11.1"
  }
 },
 "nbformat": 4,
 "nbformat_minor": 2
}
